{
  "nbformat": 4,
  "nbformat_minor": 0,
  "metadata": {
    "colab": {
      "name": "Forest_Segmentation.ipynb",
      "provenance": [],
      "collapsed_sections": []
    },
    "kernelspec": {
      "name": "python3",
      "display_name": "Python 3"
    },
    "language_info": {
      "name": "python"
    }
  },
  "cells": [
    {
      "cell_type": "markdown",
      "metadata": {
        "id": "xnOlfw0ZHevg"
      },
      "source": [
        "# **Forest Segmentation on Satellite and Aerial Images**"
      ]
    },
    {
      "cell_type": "markdown",
      "metadata": {
        "id": "YBXsSC0YIGsS"
      },
      "source": [
        "## **Motivation**"
      ]
    },
    {
      "cell_type": "markdown",
      "metadata": {
        "id": "COamKv75ILb-"
      },
      "source": [
        "## **Problem**"
      ]
    },
    {
      "cell_type": "markdown",
      "metadata": {
        "id": "ByU2ciR8Hzss"
      },
      "source": [
        "## **Set Up**\n"
      ]
    },
    {
      "cell_type": "markdown",
      "metadata": {
        "id": "H3yB94KtgMHu"
      },
      "source": [
        "#### Google drive\n",
        "\n"
      ]
    },
    {
      "cell_type": "code",
      "metadata": {
        "colab": {
          "base_uri": "https://localhost:8080/"
        },
        "id": "jWmYBTOwgNs-",
        "outputId": "210eefd1-a153-407d-fc28-bcc3e6d6901e"
      },
      "source": [
        "from google.colab import drive\n",
        "import sys\n",
        "\n",
        "# Mount Google Drive\n",
        "drive.mount('/content/drive')\n",
        "\n",
        "# Get the absolute path of the current folder\n",
        "abspath_curr = '/content/drive/My Drive/Colab Notebooks/teaching/gwu/machine_learning_I/fall_2021/final_project'"
      ],
      "execution_count": 147,
      "outputs": [
        {
          "output_type": "stream",
          "name": "stdout",
          "text": [
            "Drive already mounted at /content/drive; to attempt to forcibly remount, call drive.mount(\"/content/drive\", force_remount=True).\n"
          ]
        }
      ]
    },
    {
      "cell_type": "markdown",
      "metadata": {
        "id": "1bhvRUJUI7sp"
      },
      "source": [
        "#### Import Libraries"
      ]
    },
    {
      "cell_type": "code",
      "metadata": {
        "id": "e3d435d7Igc6"
      },
      "source": [
        "import warnings\n",
        "\n",
        "import matplotlib.pyplot as plt\n",
        "%matplotlib inline \n",
        "\n",
        "%tensorflow_version 2.x \n",
        "import tensorflow as tf\n",
        "from tensorflow import keras\n",
        "\n",
        "import numpy as np\n",
        "\n",
        "import pandas as pd\n",
        "\n",
        "import os\n",
        "import shutil\n",
        "\n",
        "from PIL import Image\n",
        "import glob\n",
        "\n",
        "import pickle"
      ],
      "execution_count": 148,
      "outputs": []
    },
    {
      "cell_type": "code",
      "metadata": {
        "id": "LjG43tEnZkfE"
      },
      "source": [
        "# Ignore warnings\n",
        "warnings.filterwarnings('ignore')"
      ],
      "execution_count": 149,
      "outputs": []
    },
    {
      "cell_type": "code",
      "metadata": {
        "id": "DBRVH9SB4ANb"
      },
      "source": [
        "# Set matplotlib sizes\n",
        "plt.rc('font', size=20)\n",
        "plt.rc('axes', titlesize=20)\n",
        "plt.rc('axes', labelsize=20)\n",
        "plt.rc('xtick', labelsize=20)\n",
        "plt.rc('ytick', labelsize=20)\n",
        "plt.rc('legend', fontsize=20)\n",
        "plt.rc('figure', titlesize=20)"
      ],
      "execution_count": 150,
      "outputs": []
    },
    {
      "cell_type": "code",
      "metadata": {
        "id": "uSADk0hJP71d"
      },
      "source": [
        "# Random Seed\n",
        "\n",
        "# The random seed\n",
        "random_seed = 42\n",
        "\n",
        "# Set random seed in tensorflow\n",
        "tf.random.set_seed(random_seed)\n",
        "\n",
        "# Set random seed in numpy\n",
        "np.random.seed(random_seed)"
      ],
      "execution_count": 151,
      "outputs": []
    },
    {
      "cell_type": "code",
      "metadata": {
        "colab": {
          "base_uri": "https://localhost:8080/"
        },
        "id": "thQ_2-pJiM1l",
        "outputId": "c06e8205-d65a-4953-9087-032616d71a31"
      },
      "source": [
        "# Check what version of TF we are using\n",
        "print(tf.version.VERSION)"
      ],
      "execution_count": 152,
      "outputs": [
        {
          "output_type": "stream",
          "name": "stdout",
          "text": [
            "2.6.0\n"
          ]
        }
      ]
    },
    {
      "cell_type": "code",
      "metadata": {
        "colab": {
          "base_uri": "https://localhost:8080/",
          "height": 249
        },
        "id": "s6sPYf9ILWJh",
        "outputId": "eb5f4c62-a09a-491e-e012-5e4850a0227f"
      },
      "source": [
        "# Print the number of GPUs available\n",
        "print(\"Num GPUs Available: \", len(tf.config.list_physical_devices('GPU')))\n",
        "\n",
        "# Test to see if GPU is found and connected\n",
        "device_name = tf.test.gpu_device_name()\n",
        "if device_name != '/device:GPU:0':\n",
        "  raise SystemError('GPU device not found')\n",
        "print('\\nFound GPU at: {}'.format(device_name))\n",
        "\n",
        "print('\\nCurrently using:')\n",
        "!nvidia-smi -L"
      ],
      "execution_count": 153,
      "outputs": [
        {
          "output_type": "stream",
          "name": "stdout",
          "text": [
            "Num GPUs Available:  0\n"
          ]
        },
        {
          "output_type": "error",
          "ename": "SystemError",
          "evalue": "ignored",
          "traceback": [
            "\u001b[0;31m---------------------------------------------------------------------------\u001b[0m",
            "\u001b[0;31mSystemError\u001b[0m                               Traceback (most recent call last)",
            "\u001b[0;32m<ipython-input-153-221bbf1a7859>\u001b[0m in \u001b[0;36m<module>\u001b[0;34m()\u001b[0m\n\u001b[1;32m      5\u001b[0m \u001b[0mdevice_name\u001b[0m \u001b[0;34m=\u001b[0m \u001b[0mtf\u001b[0m\u001b[0;34m.\u001b[0m\u001b[0mtest\u001b[0m\u001b[0;34m.\u001b[0m\u001b[0mgpu_device_name\u001b[0m\u001b[0;34m(\u001b[0m\u001b[0;34m)\u001b[0m\u001b[0;34m\u001b[0m\u001b[0;34m\u001b[0m\u001b[0m\n\u001b[1;32m      6\u001b[0m \u001b[0;32mif\u001b[0m \u001b[0mdevice_name\u001b[0m \u001b[0;34m!=\u001b[0m \u001b[0;34m'/device:GPU:0'\u001b[0m\u001b[0;34m:\u001b[0m\u001b[0;34m\u001b[0m\u001b[0;34m\u001b[0m\u001b[0m\n\u001b[0;32m----> 7\u001b[0;31m   \u001b[0;32mraise\u001b[0m \u001b[0mSystemError\u001b[0m\u001b[0;34m(\u001b[0m\u001b[0;34m'GPU device not found'\u001b[0m\u001b[0;34m)\u001b[0m\u001b[0;34m\u001b[0m\u001b[0;34m\u001b[0m\u001b[0m\n\u001b[0m\u001b[1;32m      8\u001b[0m \u001b[0mprint\u001b[0m\u001b[0;34m(\u001b[0m\u001b[0;34m'\\nFound GPU at: {}'\u001b[0m\u001b[0;34m.\u001b[0m\u001b[0mformat\u001b[0m\u001b[0;34m(\u001b[0m\u001b[0mdevice_name\u001b[0m\u001b[0;34m)\u001b[0m\u001b[0;34m)\u001b[0m\u001b[0;34m\u001b[0m\u001b[0;34m\u001b[0m\u001b[0m\n\u001b[1;32m      9\u001b[0m \u001b[0;34m\u001b[0m\u001b[0m\n",
            "\u001b[0;31mSystemError\u001b[0m: GPU device not found"
          ]
        }
      ]
    },
    {
      "cell_type": "markdown",
      "metadata": {
        "id": "HlWcvtsJMmzh"
      },
      "source": [
        "## **Data Pre-Processing**"
      ]
    },
    {
      "cell_type": "markdown",
      "metadata": {
        "id": "tZLCOCFQicuO"
      },
      "source": [
        "### **Set Up Data**\n",
        "\n",
        "Before we can load data, we need to rename our image and mask files to be the same name. This will ensure proper order and equivalent image and mask when we load."
      ]
    },
    {
      "cell_type": "code",
      "metadata": {
        "id": "IJ6TD2UKif5j"
      },
      "source": [
        "def rename_data_files(path, rm):\n",
        "  \"\"\"\n",
        "  Function to rename our images and their corresponding masks files to be the same.\n",
        "\n",
        "  Parameters:\n",
        "  path - filepath to image or mask data\n",
        "  rm - string to remove and make image and corresponding mask file match\n",
        "\n",
        "  Return:\n",
        "  None\n",
        "  \"\"\"\n",
        "  for count, filename in enumerate(os.listdir(path)):\n",
        "    src = path + filename\n",
        "    new_filename = filename.replace(rm, '')\n",
        "    dst = path + new_filename\n",
        "    \n",
        "    os.rename(src, dst)"
      ],
      "execution_count": 154,
      "outputs": []
    },
    {
      "cell_type": "code",
      "metadata": {
        "id": "Xse5U1LajdBv"
      },
      "source": [
        "rename_data_files(abspath_curr + '/data/images/', 'sat_')"
      ],
      "execution_count": 155,
      "outputs": []
    },
    {
      "cell_type": "code",
      "metadata": {
        "id": "CtPhPwN8liQ6"
      },
      "source": [
        "rename_data_files(abspath_curr + '/data/masks/', 'mask_')"
      ],
      "execution_count": 156,
      "outputs": []
    },
    {
      "cell_type": "markdown",
      "metadata": {
        "id": "Ne-kAk8AmYaW"
      },
      "source": [
        "Check if each satellite image filename has one equivalent filename in mask."
      ]
    },
    {
      "cell_type": "code",
      "metadata": {
        "colab": {
          "base_uri": "https://localhost:8080/"
        },
        "id": "jIsMNUNpmWhQ",
        "outputId": "c307636b-d2b6-427d-c7eb-08a50f701321"
      },
      "source": [
        "img_filenames = os.listdir(abspath_curr + '/data/images/')  \n",
        "msk_filenames = os.listdir(abspath_curr + '/data/masks/')\n",
        "\n",
        "if True in list(map(lambda x : True if x in msk_filenames else False, img_filenames)):\n",
        "  print('Images in Masks matches.')\n",
        "else:\n",
        "  print('Not matching Images in Masks, double check filenames.')\n",
        "\n",
        "if True in list(map(lambda x : True if x in img_filenames else False, msk_filenames)):\n",
        "  print('Masks in Images matches.')\n",
        "else:\n",
        "  print('Not matching Masks in Images, double check filenames.')"
      ],
      "execution_count": 157,
      "outputs": [
        {
          "output_type": "stream",
          "name": "stdout",
          "text": [
            "Images in Masks matches.\n",
            "Masks in Images matches.\n"
          ]
        }
      ]
    },
    {
      "cell_type": "markdown",
      "metadata": {
        "id": "JoNjUQOMOhyD"
      },
      "source": [
        "### **Initial Inspection of Data**"
      ]
    },
    {
      "cell_type": "code",
      "metadata": {
        "colab": {
          "base_uri": "https://localhost:8080/"
        },
        "id": "f5EEibdDRejd",
        "outputId": "03d6f170-e295-4ed2-de3e-f2bdbc965c2b"
      },
      "source": [
        "images = tf.keras.preprocessing.image_dataset_from_directory(\n",
        "    directory = abspath_curr + '/data/images',\n",
        "    labels = None,\n",
        "    label_mode = None,\n",
        "    color_mode = \"rgb\",\n",
        "    batch_size = 1,\n",
        "    image_size = (256, 256),\n",
        "    shuffle = False,\n",
        "    seed = random_seed\n",
        ")\n",
        "images = images.unbatch()"
      ],
      "execution_count": 158,
      "outputs": [
        {
          "output_type": "stream",
          "name": "stdout",
          "text": [
            "Found 5108 files belonging to 1 classes.\n"
          ]
        }
      ]
    },
    {
      "cell_type": "code",
      "metadata": {
        "colab": {
          "base_uri": "https://localhost:8080/"
        },
        "id": "on9eaYL_XXtg",
        "outputId": "2c5c1bc4-04d5-4bea-de55-148cbea50603"
      },
      "source": [
        "masks = tf.keras.preprocessing.image_dataset_from_directory(\n",
        "    directory = abspath_curr + '/data/masks',\n",
        "    labels = None,\n",
        "    label_mode = None,\n",
        "    color_mode = \"rgb\",\n",
        "    batch_size = 1,\n",
        "    image_size = (256, 256),\n",
        "    shuffle = False,\n",
        "    seed = random_seed\n",
        ")\n",
        "masks = masks.unbatch()"
      ],
      "execution_count": 159,
      "outputs": [
        {
          "output_type": "stream",
          "name": "stdout",
          "text": [
            "Found 5108 files belonging to 1 classes.\n"
          ]
        }
      ]
    },
    {
      "cell_type": "code",
      "metadata": {
        "colab": {
          "base_uri": "https://localhost:8080/"
        },
        "id": "BNqS0-KHlDZL",
        "outputId": "d53d7376-926d-4e2a-95ce-02d76a8f615c"
      },
      "source": [
        "imgs = images.take(9)\n",
        "imgs_lst = list(imgs.as_numpy_iterator())\n",
        "print(imgs_lst[0].shape)"
      ],
      "execution_count": 160,
      "outputs": [
        {
          "output_type": "stream",
          "name": "stdout",
          "text": [
            "(256, 256, 3)\n"
          ]
        }
      ]
    },
    {
      "cell_type": "code",
      "metadata": {
        "colab": {
          "base_uri": "https://localhost:8080/"
        },
        "id": "anXlswu0lJLa",
        "outputId": "4c08a1bf-eee2-432a-a500-6754c9b34926"
      },
      "source": [
        "msks = masks.take(9)\n",
        "msks_lst = list(msks.as_numpy_iterator())\n",
        "print(msks_lst[0].shape)"
      ],
      "execution_count": 161,
      "outputs": [
        {
          "output_type": "stream",
          "name": "stdout",
          "text": [
            "(256, 256, 3)\n"
          ]
        }
      ]
    },
    {
      "cell_type": "code",
      "metadata": {
        "id": "TOtZczSKYgHx"
      },
      "source": [
        "def show_images(images, masks, n):\n",
        "  '''\n",
        "  Plots first n sample images from list of images\n",
        "\n",
        "  Parameters:\n",
        "\n",
        "  Return\n",
        "  None, plots images\n",
        "  '''\n",
        "  plt.figure(figsize=(1, 1))\n",
        "  fig, axs = plt.subplots(n, 2)\n",
        "\n",
        "  for i in range(n):\n",
        "    img = images[i]\n",
        "    label = masks[i]\n",
        "    axs[i, 0].imshow(img.astype('uint8'))\n",
        "    axs[i, 0].set_title('Original', fontdict = {'fontsize' : 8})\n",
        "    axs[i, 0].axis(\"off\")\n",
        "\n",
        "    axs[i, 1].imshow(label.astype('uint8'))\n",
        "    axs[i, 1].set_title('Mask', fontdict = {'fontsize' : 8})\n",
        "    axs[i, 1].axis(\"off\")\n",
        "\n",
        "  plt.show()"
      ],
      "execution_count": 162,
      "outputs": []
    },
    {
      "cell_type": "code",
      "metadata": {
        "colab": {
          "base_uri": "https://localhost:8080/",
          "height": 278
        },
        "id": "L8mhncoFcFtn",
        "outputId": "44bcde76-dbea-4579-edf1-eac5fa09ed69"
      },
      "source": [
        "show_images(imgs_lst, msks_lst, 4)"
      ],
      "execution_count": 163,
      "outputs": [
        {
          "output_type": "display_data",
          "data": {
            "text/plain": [
              "<Figure size 72x72 with 0 Axes>"
            ]
          },
          "metadata": {}
        },
        {
          "output_type": "display_data",
          "data": {
            "image/png": "[encoded data removed]",
            "text/plain": [
              "<Figure size 432x288 with 8 Axes>"
            ]
          },
          "metadata": {
            "needs_background": "light"
          }
        }
      ]
    },
    {
      "cell_type": "markdown",
      "metadata": {
        "id": "EeOeM971tMiw"
      },
      "source": [
        "### **Split Train, Val, Test**"
      ]
    },
    {
      "cell_type": "code",
      "metadata": {
        "colab": {
          "base_uri": "https://localhost:8080/",
          "height": 204
        },
        "id": "rMC_ZLGHtMQq",
        "outputId": "73cb5e5a-f4c0-48e8-afed-03203b6bb849"
      },
      "source": [
        "df = pd.read_csv(abspath_curr + \"/data/meta_data.csv\")\n",
        "\n",
        "df.head()"
      ],
      "execution_count": 164,
      "outputs": [
        {
          "output_type": "execute_result",
          "data": {
            "text/html": [
              "<div>\n",
              "<style scoped>\n",
              "    .dataframe tbody tr th:only-of-type {\n",
              "        vertical-align: middle;\n",
              "    }\n",
              "\n",
              "    .dataframe tbody tr th {\n",
              "        vertical-align: top;\n",
              "    }\n",
              "\n",
              "    .dataframe thead th {\n",
              "        text-align: right;\n",
              "    }\n",
              "</style>\n",
              "<table border=\"1\" class=\"dataframe\">\n",
              "  <thead>\n",
              "    <tr style=\"text-align: right;\">\n",
              "      <th></th>\n",
              "      <th>image</th>\n",
              "      <th>mask</th>\n",
              "    </tr>\n",
              "  </thead>\n",
              "  <tbody>\n",
              "    <tr>\n",
              "      <th>0</th>\n",
              "      <td>10452_sat_08.jpg</td>\n",
              "      <td>10452_mask_08.jpg</td>\n",
              "    </tr>\n",
              "    <tr>\n",
              "      <th>1</th>\n",
              "      <td>10452_sat_18.jpg</td>\n",
              "      <td>10452_mask_18.jpg</td>\n",
              "    </tr>\n",
              "    <tr>\n",
              "      <th>2</th>\n",
              "      <td>111335_sat_00.jpg</td>\n",
              "      <td>111335_mask_00.jpg</td>\n",
              "    </tr>\n",
              "    <tr>\n",
              "      <th>3</th>\n",
              "      <td>111335_sat_01.jpg</td>\n",
              "      <td>111335_mask_01.jpg</td>\n",
              "    </tr>\n",
              "    <tr>\n",
              "      <th>4</th>\n",
              "      <td>111335_sat_02.jpg</td>\n",
              "      <td>111335_mask_02.jpg</td>\n",
              "    </tr>\n",
              "  </tbody>\n",
              "</table>\n",
              "</div>"
            ],
            "text/plain": [
              "               image                mask\n",
              "0   10452_sat_08.jpg   10452_mask_08.jpg\n",
              "1   10452_sat_18.jpg   10452_mask_18.jpg\n",
              "2  111335_sat_00.jpg  111335_mask_00.jpg\n",
              "3  111335_sat_01.jpg  111335_mask_01.jpg\n",
              "4  111335_sat_02.jpg  111335_mask_02.jpg"
            ]
          },
          "metadata": {},
          "execution_count": 164
        }
      ]
    },
    {
      "cell_type": "code",
      "metadata": {
        "colab": {
          "base_uri": "https://localhost:8080/",
          "height": 204
        },
        "id": "jbAT1_BUvZgA",
        "outputId": "16459adc-de7e-4d21-d8d9-88a1aa48abf3"
      },
      "source": [
        "# Replace sat_ and maks_ in filenames\n",
        "df['image'] = df['image'].str.replace('sat_', '')\n",
        "df['mask'] = df['mask'].str.replace('mask_', '')\n",
        "df.head()"
      ],
      "execution_count": 165,
      "outputs": [
        {
          "output_type": "execute_result",
          "data": {
            "text/html": [
              "<div>\n",
              "<style scoped>\n",
              "    .dataframe tbody tr th:only-of-type {\n",
              "        vertical-align: middle;\n",
              "    }\n",
              "\n",
              "    .dataframe tbody tr th {\n",
              "        vertical-align: top;\n",
              "    }\n",
              "\n",
              "    .dataframe thead th {\n",
              "        text-align: right;\n",
              "    }\n",
              "</style>\n",
              "<table border=\"1\" class=\"dataframe\">\n",
              "  <thead>\n",
              "    <tr style=\"text-align: right;\">\n",
              "      <th></th>\n",
              "      <th>image</th>\n",
              "      <th>mask</th>\n",
              "    </tr>\n",
              "  </thead>\n",
              "  <tbody>\n",
              "    <tr>\n",
              "      <th>0</th>\n",
              "      <td>10452_08.jpg</td>\n",
              "      <td>10452_08.jpg</td>\n",
              "    </tr>\n",
              "    <tr>\n",
              "      <th>1</th>\n",
              "      <td>10452_18.jpg</td>\n",
              "      <td>10452_18.jpg</td>\n",
              "    </tr>\n",
              "    <tr>\n",
              "      <th>2</th>\n",
              "      <td>111335_00.jpg</td>\n",
              "      <td>111335_00.jpg</td>\n",
              "    </tr>\n",
              "    <tr>\n",
              "      <th>3</th>\n",
              "      <td>111335_01.jpg</td>\n",
              "      <td>111335_01.jpg</td>\n",
              "    </tr>\n",
              "    <tr>\n",
              "      <th>4</th>\n",
              "      <td>111335_02.jpg</td>\n",
              "      <td>111335_02.jpg</td>\n",
              "    </tr>\n",
              "  </tbody>\n",
              "</table>\n",
              "</div>"
            ],
            "text/plain": [
              "           image           mask\n",
              "0   10452_08.jpg   10452_08.jpg\n",
              "1   10452_18.jpg   10452_18.jpg\n",
              "2  111335_00.jpg  111335_00.jpg\n",
              "3  111335_01.jpg  111335_01.jpg\n",
              "4  111335_02.jpg  111335_02.jpg"
            ]
          },
          "metadata": {},
          "execution_count": 165
        }
      ]
    },
    {
      "cell_type": "code",
      "metadata": {
        "id": "0hulFWKMu2pf"
      },
      "source": [
        "# Create divides for train, test, val\n",
        "train_num_samples = round(len(df)*0.8)\n",
        "test_num_samples = round((len(df) - train_num_samples)/2)\n",
        "val_num_samples = len(df) - test_num_samples - train_num_samples"
      ],
      "execution_count": 166,
      "outputs": []
    },
    {
      "cell_type": "code",
      "metadata": {
        "colab": {
          "base_uri": "https://localhost:8080/",
          "height": 204
        },
        "id": "ke3RJMAvuoRu",
        "outputId": "5ec81c68-7b0c-426c-8af9-64d421816f0f"
      },
      "source": [
        "#shuffle all rows of DataFrame\n",
        "df = df.sample(frac=1, random_state=random_seed).reset_index(drop=True)\n",
        "df.head()"
      ],
      "execution_count": 167,
      "outputs": [
        {
          "output_type": "execute_result",
          "data": {
            "text/html": [
              "<div>\n",
              "<style scoped>\n",
              "    .dataframe tbody tr th:only-of-type {\n",
              "        vertical-align: middle;\n",
              "    }\n",
              "\n",
              "    .dataframe tbody tr th {\n",
              "        vertical-align: top;\n",
              "    }\n",
              "\n",
              "    .dataframe thead th {\n",
              "        text-align: right;\n",
              "    }\n",
              "</style>\n",
              "<table border=\"1\" class=\"dataframe\">\n",
              "  <thead>\n",
              "    <tr style=\"text-align: right;\">\n",
              "      <th></th>\n",
              "      <th>image</th>\n",
              "      <th>mask</th>\n",
              "    </tr>\n",
              "  </thead>\n",
              "  <tbody>\n",
              "    <tr>\n",
              "      <th>0</th>\n",
              "      <td>749375_84.jpg</td>\n",
              "      <td>749375_84.jpg</td>\n",
              "    </tr>\n",
              "    <tr>\n",
              "      <th>1</th>\n",
              "      <td>299287_22.jpg</td>\n",
              "      <td>299287_22.jpg</td>\n",
              "    </tr>\n",
              "    <tr>\n",
              "      <th>2</th>\n",
              "      <td>296279_80.jpg</td>\n",
              "      <td>296279_80.jpg</td>\n",
              "    </tr>\n",
              "    <tr>\n",
              "      <th>3</th>\n",
              "      <td>876248_28.jpg</td>\n",
              "      <td>876248_28.jpg</td>\n",
              "    </tr>\n",
              "    <tr>\n",
              "      <th>4</th>\n",
              "      <td>192918_76.jpg</td>\n",
              "      <td>192918_76.jpg</td>\n",
              "    </tr>\n",
              "  </tbody>\n",
              "</table>\n",
              "</div>"
            ],
            "text/plain": [
              "           image           mask\n",
              "0  749375_84.jpg  749375_84.jpg\n",
              "1  299287_22.jpg  299287_22.jpg\n",
              "2  296279_80.jpg  296279_80.jpg\n",
              "3  876248_28.jpg  876248_28.jpg\n",
              "4  192918_76.jpg  192918_76.jpg"
            ]
          },
          "metadata": {},
          "execution_count": 167
        }
      ]
    },
    {
      "cell_type": "code",
      "metadata": {
        "colab": {
          "base_uri": "https://localhost:8080/",
          "height": 255
        },
        "id": "t9osgUoawJPB",
        "outputId": "65c60a75-f4e6-4f03-a523-32c26efd9f10"
      },
      "source": [
        "df['data_split'] = ''\n",
        "df['data_split'].iloc[:train_num_samples] = 'train'\n",
        "df['data_split'].iloc[train_num_samples:train_num_samples+val_num_samples] = 'val'\n",
        "df['data_split'].iloc[train_num_samples+val_num_samples:] = 'test'\n",
        "\n",
        "print('Samples in train: ', len(df[df['data_split'] == 'train']))\n",
        "print('Samples in validation: ', len(df[df['data_split'] == 'val']))\n",
        "print('Samples in test: ', len(df[df['data_split'] == 'test']))\n",
        "df.head()"
      ],
      "execution_count": 168,
      "outputs": [
        {
          "output_type": "stream",
          "name": "stdout",
          "text": [
            "Samples in train:  4086\n",
            "Samples in validation:  511\n",
            "Samples in test:  511\n"
          ]
        },
        {
          "output_type": "execute_result",
          "data": {
            "text/html": [
              "<div>\n",
              "<style scoped>\n",
              "    .dataframe tbody tr th:only-of-type {\n",
              "        vertical-align: middle;\n",
              "    }\n",
              "\n",
              "    .dataframe tbody tr th {\n",
              "        vertical-align: top;\n",
              "    }\n",
              "\n",
              "    .dataframe thead th {\n",
              "        text-align: right;\n",
              "    }\n",
              "</style>\n",
              "<table border=\"1\" class=\"dataframe\">\n",
              "  <thead>\n",
              "    <tr style=\"text-align: right;\">\n",
              "      <th></th>\n",
              "      <th>image</th>\n",
              "      <th>mask</th>\n",
              "      <th>data_split</th>\n",
              "    </tr>\n",
              "  </thead>\n",
              "  <tbody>\n",
              "    <tr>\n",
              "      <th>0</th>\n",
              "      <td>749375_84.jpg</td>\n",
              "      <td>749375_84.jpg</td>\n",
              "      <td>train</td>\n",
              "    </tr>\n",
              "    <tr>\n",
              "      <th>1</th>\n",
              "      <td>299287_22.jpg</td>\n",
              "      <td>299287_22.jpg</td>\n",
              "      <td>train</td>\n",
              "    </tr>\n",
              "    <tr>\n",
              "      <th>2</th>\n",
              "      <td>296279_80.jpg</td>\n",
              "      <td>296279_80.jpg</td>\n",
              "      <td>train</td>\n",
              "    </tr>\n",
              "    <tr>\n",
              "      <th>3</th>\n",
              "      <td>876248_28.jpg</td>\n",
              "      <td>876248_28.jpg</td>\n",
              "      <td>train</td>\n",
              "    </tr>\n",
              "    <tr>\n",
              "      <th>4</th>\n",
              "      <td>192918_76.jpg</td>\n",
              "      <td>192918_76.jpg</td>\n",
              "      <td>train</td>\n",
              "    </tr>\n",
              "  </tbody>\n",
              "</table>\n",
              "</div>"
            ],
            "text/plain": [
              "           image           mask data_split\n",
              "0  749375_84.jpg  749375_84.jpg      train\n",
              "1  299287_22.jpg  299287_22.jpg      train\n",
              "2  296279_80.jpg  296279_80.jpg      train\n",
              "3  876248_28.jpg  876248_28.jpg      train\n",
              "4  192918_76.jpg  192918_76.jpg      train"
            ]
          },
          "metadata": {},
          "execution_count": 168
        }
      ]
    },
    {
      "cell_type": "code",
      "metadata": {
        "id": "CMSmrkb7zpc6"
      },
      "source": [
        "def make_directory(path):\n",
        "  \"\"\"\n",
        "  Function to make directory if not exits\n",
        "\n",
        "  Paramater:\n",
        "  path - path of directory\n",
        "\n",
        "  Return:\n",
        "  None\n",
        "  \"\"\"\n",
        "  directory = os.path.dirname(path)\n",
        "  if not os.path.exists(directory):\n",
        "    os.makedirs(directory)\n",
        "  \n",
        "  return\n"
      ],
      "execution_count": 169,
      "outputs": []
    },
    {
      "cell_type": "code",
      "metadata": {
        "id": "3yYQCJ7LxMOG"
      },
      "source": [
        "# Make directories\n",
        "make_directory(abspath_curr + '/data/train_test_split/train/images/')\n",
        "make_directory(abspath_curr + '/data/train_test_split/train/masks/')\n",
        "\n",
        "make_directory(abspath_curr + '/data/train_test_split/val/images/')\n",
        "make_directory(abspath_curr + '/data/train_test_split/val/masks/')\n",
        "\n",
        "make_directory(abspath_curr + '/data/train_test_split/test/images/')\n",
        "make_directory(abspath_curr + '/data/train_test_split/test/masks/')"
      ],
      "execution_count": 199,
      "outputs": []
    },
    {
      "cell_type": "code",
      "metadata": {
        "id": "vE1WCd1ZxxZo"
      },
      "source": [
        "def move_files(list_filenames, source_path, target_path):\n",
        "  \"\"\"\n",
        "  Function to move files from source to target directory based on a list of filenames within source\n",
        "\n",
        "  Parameters:\n",
        "  list_filesname - list of filenames\n",
        "  source_path - path of source directory\n",
        "  target_path - path of target directory\n",
        "\n",
        "  Return:\n",
        "  None\n",
        "  \"\"\"\n",
        "  for file_name in list_filenames:\n",
        "      try:\n",
        "        shutil.move(os.path.join(source_path, file_name), os.path.join(target_path, file_name))\n",
        "      except FileNotFoundError:\n",
        "        continue"
      ],
      "execution_count": 171,
      "outputs": []
    },
    {
      "cell_type": "code",
      "metadata": {
        "id": "y5qb6Zafy0Iw"
      },
      "source": [
        "# List of test, val, train filenames\n",
        "test_files_list = list(df[df['data_split'] == 'test']['image'])\n",
        "val_files_list = list(df[df['data_split'] == 'val']['image'])\n",
        "train_files_list = list(df[df['data_split'] == 'train']['image'])"
      ],
      "execution_count": 172,
      "outputs": []
    },
    {
      "cell_type": "code",
      "metadata": {
        "id": "1IQ8R7_7zNFr"
      },
      "source": [
        "# Moves files to train, val, test directories\n",
        "\n",
        "# Train\n",
        "move_files(train_files_list, abspath_curr + '/data/images', abspath_curr + '/data/train_test_split/train/images')\n",
        "move_files(train_files_list, abspath_curr + '/data/masks', abspath_curr + '/data/train_test_split/train/masks')\n",
        "\n",
        "# Val\n",
        "move_files(val_files_list, abspath_curr + '/data/images', abspath_curr + '/data/train_test_split/val/images')\n",
        "move_files(val_files_list, abspath_curr + '/data/masks', abspath_curr + '/data/train_test_split/val/masks')\n",
        "\n",
        "# Test\n",
        "move_files(test_files_list, abspath_curr + '/data/images', abspath_curr + '/data/train_test_split/test/images')\n",
        "move_files(test_files_list, abspath_curr + '/data/masks', abspath_curr + '/data/train_test_split/test/masks')"
      ],
      "execution_count": 174,
      "outputs": []
    },
    {
      "cell_type": "code",
      "metadata": {
        "colab": {
          "base_uri": "https://localhost:8080/"
        },
        "id": "ApP-h8HbE9cw",
        "outputId": "553e8934-8d46-4d2e-d57c-755cf12c3e24"
      },
      "source": [
        "# Check if images got moved right\n",
        "print('Train Images: ', len(os.listdir(abspath_curr + '/data/train_test_split/train/images')))\n",
        "print('Train Masks: ',len(os.listdir(abspath_curr + '/data/train_test_split/train/masks')))\n",
        "\n",
        "print('Val Images: ',len(os.listdir(abspath_curr + '/data/train_test_split/val/images')))\n",
        "print('Val Masks: ',len(os.listdir(abspath_curr + '/data/train_test_split/val/masks')))\n",
        "\n",
        "print('Test Images: ',len(os.listdir(abspath_curr + '/data/train_test_split/test/images')))\n",
        "print('Test Masks: ',len(os.listdir(abspath_curr + '/data/train_test_split/test/masks')))"
      ],
      "execution_count": 206,
      "outputs": [
        {
          "output_type": "stream",
          "name": "stdout",
          "text": [
            "Train Images:  4086\n",
            "Train Masks:  4086\n",
            "Val Images:  511\n",
            "Val Masks:  511\n",
            "Test Images:  511\n",
            "Test Masks:  511\n"
          ]
        }
      ]
    },
    {
      "cell_type": "markdown",
      "metadata": {
        "id": "XQmgBKjW3nAz"
      },
      "source": [
        "### **Load Data**"
      ]
    },
    {
      "cell_type": "markdown",
      "metadata": {
        "id": "ArnsugKQqQTC"
      },
      "source": [
        "**Set up generators and loading data to generators**"
      ]
    },
    {
      "cell_type": "code",
      "metadata": {
        "id": "hV_GwvRo5X7g"
      },
      "source": [
        "# Create two instances of ImageDataGenerator with same arguments\n",
        "data_gen_args = dict(\n",
        "                     rotation_range=90,\n",
        "                     width_shift_range=0.1,\n",
        "                     height_shift_range=0.1,\n",
        "                     zoom_range=0.2,\n",
        "                     rescale=1./255\n",
        "                     )\n",
        "\n",
        "image_datagen = tf.keras.preprocessing.image.ImageDataGenerator(**data_gen_args)\n",
        "mask_datagen = tf.keras.preprocessing.image.ImageDataGenerator(**data_gen_args)"
      ],
      "execution_count": 207,
      "outputs": []
    },
    {
      "cell_type": "code",
      "metadata": {
        "id": "KHJ_yK525z4T"
      },
      "source": [
        "# Provide the same seed and keyword arguments to the fit and flow methods\n",
        "\n",
        "# Fit\n",
        "# image_datagen.fit(images, augment=True, seed=random_seed)\n",
        "# mask_datagen.fit(masks, augment=True, seed=random_seed)"
      ],
      "execution_count": null,
      "outputs": []
    },
    {
      "cell_type": "code",
      "metadata": {
        "colab": {
          "base_uri": "https://localhost:8080/"
        },
        "id": "pzDm3YLI5Ut3",
        "outputId": "34d7d4f3-9fa6-409d-ac13-49750f89f1e3"
      },
      "source": [
        "# Flow\n",
        "\n",
        "# Train\n",
        "image_train_generator = image_datagen.flow_from_directory(\n",
        "    directory = abspath_curr + '/data/train_test_split/train/',\n",
        "    target_size=(256, 256),\n",
        "    color_mode='rgb',\n",
        "    classes=None,\n",
        "    class_mode=['images'],\n",
        "    batch_size=32, \n",
        "    shuffle=False,\n",
        "    seed=random_seed)\n",
        "\n",
        "mask_train_generator = mask_datagen.flow_from_directory(\n",
        "    abspath_curr + '/data/train_test_split/train/',\n",
        "    target_size=(256, 256),\n",
        "    color_mode='rgb',\n",
        "    classes=None,\n",
        "    class_mode=['masks'],\n",
        "    batch_size=32, \n",
        "    shuffle=False,\n",
        "    seed=random_seed)\n",
        "\n",
        "# Val\n",
        "image_val_generator = image_datagen.flow_from_directory(\n",
        "    abspath_curr + '/data/train_test_split/val/',\n",
        "    target_size=(256, 256),\n",
        "    color_mode='rgb',\n",
        "    classes=None,\n",
        "    class_mode=['images'],\n",
        "    batch_size=32, \n",
        "    shuffle=False,\n",
        "    seed=random_seed)\n",
        "\n",
        "mask_val_generator = mask_datagen.flow_from_directory(\n",
        "    abspath_curr + '/data/train_test_split/val/',\n",
        "    target_size=(256, 256),\n",
        "    color_mode='rgb',\n",
        "    classes=None,\n",
        "    class_mode=['masks'],\n",
        "    batch_size=32, \n",
        "    shuffle=False,\n",
        "    seed=random_seed)\n",
        "\n",
        "# Test\n",
        "image_test_generator = image_datagen.flow_from_directory(\n",
        "    abspath_curr + '/data/train_test_split/test/',\n",
        "    target_size=(256, 256),\n",
        "    color_mode='rgb',\n",
        "    classes=None,\n",
        "    class_mode=['images'],\n",
        "    batch_size=32, \n",
        "    shuffle=False,\n",
        "    seed=random_seed)\n",
        "\n",
        "mask_test_generator = mask_datagen.flow_from_directory(\n",
        "    abspath_curr + '/data/train_test_split/test/',\n",
        "    target_size=(256, 256),\n",
        "    color_mode='rgb',\n",
        "    classes=None,\n",
        "    class_mode=['masks'],\n",
        "    batch_size=32, \n",
        "    shuffle=False,\n",
        "    seed=random_seed)"
      ],
      "execution_count": 208,
      "outputs": [
        {
          "output_type": "stream",
          "name": "stdout",
          "text": [
            "Found 4086 images belonging to 1 classes.\n",
            "Found 4086 images belonging to 1 classes.\n",
            "Found 511 images belonging to 1 classes.\n",
            "Found 511 images belonging to 1 classes.\n",
            "Found 511 images belonging to 1 classes.\n",
            "Found 511 images belonging to 2 classes.\n"
          ]
        }
      ]
    },
    {
      "cell_type": "code",
      "metadata": {
        "id": "au-5lN0O5ghh"
      },
      "source": [
        "# Combine train and val generators into one which yields image and masks.\n",
        "# Keep image and masks for tests separate for prediction.\n",
        "\n",
        "train_generator = zip(image_train_generator, mask_train_generator)\n",
        "val_generator = zip(image_val_generator, mask_val_generator)"
      ],
      "execution_count": null,
      "outputs": []
    },
    {
      "cell_type": "markdown",
      "metadata": {
        "id": "m9iOL7mLL70w"
      },
      "source": [
        "## **Build Model(s)**"
      ]
    },
    {
      "cell_type": "markdown",
      "metadata": {
        "id": "AvX6h1a1MCVC"
      },
      "source": [
        "### **FCN**"
      ]
    },
    {
      "cell_type": "markdown",
      "metadata": {
        "id": "nKB4g_THMHCp"
      },
      "source": [
        "### **U-Net**"
      ]
    },
    {
      "cell_type": "markdown",
      "metadata": {
        "id": "9egaLY2eMLw7"
      },
      "source": [
        "### **Mask R-CNN**"
      ]
    },
    {
      "cell_type": "code",
      "metadata": {
        "id": "33F8O_hq-p95"
      },
      "source": [
        "# model.fit(\n",
        "#     train_generator,\n",
        "#     steps_per_epoch=2000,\n",
        "#     epochs=50)"
      ],
      "execution_count": null,
      "outputs": []
    },
    {
      "cell_type": "code",
      "metadata": {
        "id": "QAiQwIJhqSOv"
      },
      "source": [
        "# def image_mask_generator(image_data_generator, mask_data_generator):\n",
        "#   \"\"\"\n",
        "#   Function to generate and zip image_mask_generator from separate image and mask generators.\n",
        "\n",
        "#   Parameters:\n",
        "#   image_data_generator - \n",
        "#   mask_data_generator - \n",
        "\n",
        "#   Return:\n",
        "#   Yields img, mask\n",
        "#   \"\"\"\n",
        "#   train_generator = zip(image_data_generator, mask_data_generator)\n",
        "#   for (img, mask) in train_generator:\n",
        "#     yield (img, mask)"
      ],
      "execution_count": 81,
      "outputs": []
    },
    {
      "cell_type": "code",
      "metadata": {
        "colab": {
          "base_uri": "https://localhost:8080/"
        },
        "id": "uAXJktgrrE3q",
        "outputId": "8ad99a04-a3eb-4c8d-f75b-2fbc680a4bec"
      },
      "source": [
        "# image_data_generator = tf.keras.preprocessing.image.ImageDataGenerator(\n",
        "#     width_shift_range = 0.1,\n",
        "#     height_shift_range = 0.1,\n",
        "#     rotation_range = 10,\n",
        "#     zoom_range = 0.1\n",
        "# ).flow_from_directory(abspath_curr + '/data/images/', batch_size = 32, target_size = (256, 256), seed = random_seed)\n",
        "\n",
        "# mask_data_generator = tf.keras.preprocessing.image.ImageDataGenerator(\n",
        "#     width_shift_range = 0.1,\n",
        "#     height_shift_range = 0.1,\n",
        "#     rotation_range = 10,\n",
        "#     zoom_range = 0.1\n",
        "# ).flow_from_directory(abspath_curr + '/data/masks/', batch_size = 32, target_size = (256, 256), seed = random_seed)"
      ],
      "execution_count": 87,
      "outputs": [
        {
          "output_type": "stream",
          "name": "stdout",
          "text": [
            "Found 0 images belonging to 0 classes.\n",
            "Found 0 images belonging to 0 classes.\n"
          ]
        }
      ]
    },
    {
      "cell_type": "code",
      "metadata": {
        "id": "tkQir6qnrfgf"
      },
      "source": [
        "# my_generator = my_image_mask_generator(image_data_generator, mask_data_generator)\n"
      ],
      "execution_count": null,
      "outputs": []
    },
    {
      "cell_type": "markdown",
      "metadata": {
        "id": "IG6vlPUEM1uL"
      },
      "source": [
        "## **Train**"
      ]
    },
    {
      "cell_type": "markdown",
      "metadata": {
        "id": "IzYX4llyIYQU"
      },
      "source": [
        "## **Conclusion**"
      ]
    },
    {
      "cell_type": "markdown",
      "metadata": {
        "id": "9aC5kvFJ3v23"
      },
      "source": [
        ""
      ]
    },
    {
      "cell_type": "markdown",
      "metadata": {
        "id": "AjGsWt5S3wOb"
      },
      "source": [
        "## **Citations**"
      ]
    },
    {
      "cell_type": "markdown",
      "metadata": {
        "id": "yan84TKxt7pq"
      },
      "source": [
        "- https://stackoverflow.com/questions/56517963/keras-imagedatagenerator-for-segmentation-with-images-and-masks-in-separate-dire\n",
        "- https://tensorflow.google.cn/api_docs/python/tf/data/Dataset?hl=zh-cn#take\n",
        "- https://keras.io/api/preprocessing/image/\n",
        "- https://awaywithideas.com/a-simple-example-of-semantic-segmentation-with-tensorflow-keras/\n",
        "- https://github.com/kevinddchen/Keras-FCN\n",
        "- https://www.tensorflow.org/api_docs/python/tf/keras/preprocessing/image/ImageDataGenerator\n",
        "- https://www.pyimagesearch.com/2018/12/24/how-to-use-keras-fit-and-fit_generator-a-hands-on-tutorial/\n",
        "- https://towardsdatascience.com/metrics-to-evaluate-your-semantic-segmentation-model-6bcb99639aa2\n",
        "- https://keras.io/api/metrics/segmentation_metrics/\n",
        "- https://datascience.stackexchange.com/questions/68888/how-to-use-keras-predict-generator-for-segmentation-output\n"
      ]
    },
    {
      "cell_type": "code",
      "metadata": {
        "id": "3pzoQBsPcUML"
      },
      "source": [
        "# plt.imshow(images_data_lst[0].astype('uint8'))"
      ],
      "execution_count": 80,
      "outputs": []
    }
  ]
}